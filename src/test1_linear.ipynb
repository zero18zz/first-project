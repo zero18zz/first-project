{
 "cells": [
  {
   "cell_type": "code",
   "execution_count": 1,
   "metadata": {
    "ExecuteTime": {
     "end_time": "2020-09-19T06:46:01.854268Z",
     "start_time": "2020-09-19T06:45:53.027980Z"
    }
   },
   "outputs": [],
   "source": [
    "import numpy as np\n",
    "import matplotlib.pyplot as plt"
   ]
  },
  {
   "cell_type": "code",
   "execution_count": 4,
   "metadata": {
    "ExecuteTime": {
     "end_time": "2020-09-19T06:50:39.729842Z",
     "start_time": "2020-09-19T06:50:39.626789Z"
    },
    "scrolled": true
   },
   "outputs": [
    {
     "name": "stdout",
     "output_type": "stream",
     "text": [
      "[[235 591]\n",
      " [216 539]\n",
      " [148 413]\n",
      " [ 35 310]\n",
      " [ 85 308]\n",
      " [204 519]\n",
      " [ 49 325]\n",
      " [ 25 332]\n",
      " [173 498]\n",
      " [191 498]\n",
      " [134 392]\n",
      " [ 99 334]\n",
      " [117 385]\n",
      " [112 387]\n",
      " [162 425]\n",
      " [272 659]\n",
      " [159 400]\n",
      " [159 427]\n",
      " [ 59 319]\n",
      " [198 522]]\n",
      "[235 216 148  35  85 204  49  25 173 191 134  99 117 112 162 272 159 159\n",
      "  59 198]\n",
      "[591 539 413 310 308 519 325 332 498 498 392 334 385 387 425 659 400 427\n",
      " 319 522]\n"
     ]
    }
   ],
   "source": [
    "#读取学习data\n",
    "train = np.loadtxt('click.csv', delimiter=',', dtype='int', skiprows=1)\n",
    "train_x = train[:,0]\n",
    "train_y = train[:,1]\n",
    "print(train)\n",
    "print(train_x)\n",
    "print(train_y)"
   ]
  },
  {
   "cell_type": "code",
   "execution_count": 8,
   "metadata": {
    "ExecuteTime": {
     "end_time": "2020-09-19T07:09:25.668012Z",
     "start_time": "2020-09-19T07:09:25.661016Z"
    }
   },
   "outputs": [],
   "source": [
    "#标准化\n",
    "mu = train_x.mean()\n",
    "sigma = train_x.std()\n",
    "def standardize(x):\n",
    "    return (x-mu)/sigma\n",
    "train_z = standardize(train_x)"
   ]
  },
  {
   "cell_type": "code",
   "execution_count": 9,
   "metadata": {
    "ExecuteTime": {
     "end_time": "2020-09-19T07:10:39.378615Z",
     "start_time": "2020-09-19T07:10:39.372630Z"
    }
   },
   "outputs": [],
   "source": [
    "#参数初始化\n",
    "theta0 = np.random.rand()\n",
    "theta1 = np.random.rand()"
   ]
  },
  {
   "cell_type": "code",
   "execution_count": 10,
   "metadata": {
    "ExecuteTime": {
     "end_time": "2020-09-19T07:11:31.469858Z",
     "start_time": "2020-09-19T07:11:31.464853Z"
    }
   },
   "outputs": [],
   "source": [
    "#预测函数\n",
    "def f(x):\n",
    "    return theta0 + theta1 * x"
   ]
  },
  {
   "cell_type": "code",
   "execution_count": 16,
   "metadata": {
    "ExecuteTime": {
     "end_time": "2020-09-19T09:04:06.606615Z",
     "start_time": "2020-09-19T09:04:06.586573Z"
    }
   },
   "outputs": [],
   "source": [
    "#目的函数\n",
    "def E(x,y):\n",
    "    return 0.5 * np.sum((y-f(x))**2)"
   ]
  },
  {
   "cell_type": "code",
   "execution_count": 17,
   "metadata": {
    "ExecuteTime": {
     "end_time": "2020-09-19T09:04:07.648946Z",
     "start_time": "2020-09-19T09:04:07.642944Z"
    }
   },
   "outputs": [],
   "source": [
    "#学习率\n",
    "ETA = 1e-3"
   ]
  },
  {
   "cell_type": "code",
   "execution_count": 18,
   "metadata": {
    "ExecuteTime": {
     "end_time": "2020-09-19T09:04:08.050482Z",
     "start_time": "2020-09-19T09:04:08.046479Z"
    }
   },
   "outputs": [],
   "source": [
    "#误差的差分\n",
    "diff =1"
   ]
  },
  {
   "cell_type": "code",
   "execution_count": 19,
   "metadata": {
    "ExecuteTime": {
     "end_time": "2020-09-19T09:04:08.858141Z",
     "start_time": "2020-09-19T09:04:08.854134Z"
    }
   },
   "outputs": [],
   "source": [
    "#更新回数\n",
    "count = 0"
   ]
  },
  {
   "cell_type": "code",
   "execution_count": 20,
   "metadata": {
    "ExecuteTime": {
     "end_time": "2020-09-19T09:04:09.579208Z",
     "start_time": "2020-09-19T09:04:09.514210Z"
    }
   },
   "outputs": [],
   "source": [
    "#误差的差分小于0.01结束循环\n",
    "error = E(train_z, train_y)"
   ]
  },
  {
   "cell_type": "code",
   "execution_count": null,
   "metadata": {},
   "outputs": [],
   "source": [
    "while diff > 1e-2:\n",
    "    #更新结果一时保存\n",
    "    tmp_theta0 = theta0 - ETA * np.sum((f(train_z) - train_y))\n",
    "    "
   ]
  }
 ],
 "metadata": {
  "kernelspec": {
   "display_name": "Python 3",
   "language": "python",
   "name": "python3"
  },
  "language_info": {
   "codemirror_mode": {
    "name": "ipython",
    "version": 3
   },
   "file_extension": ".py",
   "mimetype": "text/x-python",
   "name": "python",
   "nbconvert_exporter": "python",
   "pygments_lexer": "ipython3",
   "version": "3.7.7"
  },
  "toc": {
   "base_numbering": 1,
   "nav_menu": {},
   "number_sections": true,
   "sideBar": true,
   "skip_h1_title": false,
   "title_cell": "Table of Contents",
   "title_sidebar": "Contents",
   "toc_cell": false,
   "toc_position": {},
   "toc_section_display": true,
   "toc_window_display": false
  }
 },
 "nbformat": 4,
 "nbformat_minor": 4
}
